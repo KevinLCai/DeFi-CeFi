{
 "cells": [
  {
   "cell_type": "code",
   "execution_count": 6,
   "id": "e4c22b5f",
   "metadata": {},
   "outputs": [],
   "source": [
    "import datetime\n",
    "from decimal import Decimal\n",
    "\n",
    "data = (('CeFi', 162, 2, datetime.datetime(2023, 4, 1, 17, 10), 'sell', Decimal('1821.76'), Decimal('0.027446')),\n",
    "('CeFi', 163, 1, datetime.datetime(2023, 4, 1, 17, 10), 'buy', Decimal('28419.99'), Decimal('0.001759')),\n",
    "('CeFi', 164, 2, datetime.datetime(2023, 4, 1, 17, 10), 'sell', Decimal('1821.76'), Decimal('0.027446')),\n",
    "('CeFi', 165, 1, datetime.datetime(2023, 4, 1, 17, 10), 'buy', Decimal('28420.00'), Decimal('0.001759')),\n",
    "('CeFi', 166, 2, datetime.datetime(2023, 4, 1, 17, 10), 'sell', Decimal('1821.99'), Decimal('0.027443')),\n",
    "('CeFi', 167, 1, datetime.datetime(2023, 4, 1, 17, 10), 'buy', Decimal('28419.99'), Decimal('0.001759')),\n",
    "('CeFi', 168, 2, datetime.datetime(2023, 4, 1, 17, 10), 'sell', Decimal('1822.00'), Decimal('0.027442')))"
   ]
  },
  {
   "cell_type": "code",
   "execution_count": 7,
   "id": "9ba55eda",
   "metadata": {},
   "outputs": [
    {
     "name": "stdout",
     "output_type": "stream",
     "text": [
      "('CeFi', 162, 2, datetime.datetime(2023, 4, 1, 17, 10), 'sell', Decimal('1821.76'), Decimal('0.027446'))\n",
      "('CeFi', 163, 1, datetime.datetime(2023, 4, 1, 17, 10), 'buy', Decimal('28419.99'), Decimal('0.001759'))\n",
      "('CeFi', 164, 2, datetime.datetime(2023, 4, 1, 17, 10), 'sell', Decimal('1821.76'), Decimal('0.027446'))\n",
      "('CeFi', 165, 1, datetime.datetime(2023, 4, 1, 17, 10), 'buy', Decimal('28420.00'), Decimal('0.001759'))\n",
      "('CeFi', 166, 2, datetime.datetime(2023, 4, 1, 17, 10), 'sell', Decimal('1821.99'), Decimal('0.027443'))\n",
      "('CeFi', 167, 1, datetime.datetime(2023, 4, 1, 17, 10), 'buy', Decimal('28419.99'), Decimal('0.001759'))\n",
      "('CeFi', 168, 2, datetime.datetime(2023, 4, 1, 17, 10), 'sell', Decimal('1822.00'), Decimal('0.027442'))\n"
     ]
    }
   ],
   "source": [
    "for deal in data:\n",
    "    print(deal)"
   ]
  },
  {
   "cell_type": "code",
   "execution_count": 16,
   "id": "814361da",
   "metadata": {},
   "outputs": [
    {
     "name": "stdout",
     "output_type": "stream",
     "text": [
      "149.97230482\n",
      "-200.00024549\n",
      "50.02794067\n"
     ]
    }
   ],
   "source": [
    "btc_position = 0\n",
    "eth_position = 0\n",
    "usd_position = 0\n",
    "for deal in data:\n",
    "    token_id = deal[2]\n",
    "    order_type = deal[4]\n",
    "    price = deal[5]\n",
    "    trade_size = deal[6]\n",
    "    \n",
    "    position = price * trade_size\n",
    "    if token_id == 1:\n",
    "        if order_type == 'buy':\n",
    "            btc_position += position\n",
    "            usd_position -= position\n",
    "        elif order_type == 'sell':\n",
    "            btc_position -= position\n",
    "            usd_position += position\n",
    "    elif token_id == 2:\n",
    "        if order_type == 'buy':\n",
    "            eth_position += position\n",
    "            usd_position -= position\n",
    "        elif order_type == 'sell':\n",
    "            eth_position -= position\n",
    "            usd_position += position\n",
    "\n",
    "print(btc_position)\n",
    "print(eth_position)\n",
    "print(usd_position)"
   ]
  },
  {
   "cell_type": "code",
   "execution_count": 18,
   "id": "51122fe5",
   "metadata": {},
   "outputs": [],
   "source": [
    "import pandas as pd"
   ]
  },
  {
   "cell_type": "code",
   "execution_count": 35,
   "id": "18b03970",
   "metadata": {},
   "outputs": [],
   "source": [
    "df = pd.DataFrame(data)\n",
    "df['position'] = df[5] * df[6]"
   ]
  },
  {
   "cell_type": "code",
   "execution_count": 39,
   "id": "f108bfe0",
   "metadata": {},
   "outputs": [],
   "source": [
    "btc_buy = df.loc[(df[2] == 1) & (df[4] == 'buy')]\n",
    "btc_sell = df.loc[(df[2] == 1) & (df[4] == 'sell')]\n",
    "eth_buy = df.loc[(df[2] == 2) & (df[4] == 'buy')]\n",
    "eth_sell = df.loc[(df[2] == 2) & (df[4] == 'sell')]"
   ]
  },
  {
   "cell_type": "code",
   "execution_count": 44,
   "id": "45341176",
   "metadata": {},
   "outputs": [
    {
     "data": {
      "text/plain": [
       "Decimal('149.97230482')"
      ]
     },
     "execution_count": 44,
     "metadata": {},
     "output_type": "execute_result"
    }
   ],
   "source": [
    "btc_buy['position'].sum() - btc_sell['position'].sum()"
   ]
  },
  {
   "cell_type": "code",
   "execution_count": 47,
   "id": "cc322571",
   "metadata": {},
   "outputs": [
    {
     "data": {
      "text/plain": [
       "Decimal('-200.00024549')"
      ]
     },
     "execution_count": 47,
     "metadata": {},
     "output_type": "execute_result"
    }
   ],
   "source": [
    "eth_buy['position'].sum() - eth_sell['position'].sum()"
   ]
  },
  {
   "cell_type": "code",
   "execution_count": null,
   "id": "315e20a7",
   "metadata": {},
   "outputs": [],
   "source": []
  }
 ],
 "metadata": {
  "kernelspec": {
   "display_name": "Python 3 (ipykernel)",
   "language": "python",
   "name": "python3"
  },
  "language_info": {
   "codemirror_mode": {
    "name": "ipython",
    "version": 3
   },
   "file_extension": ".py",
   "mimetype": "text/x-python",
   "name": "python",
   "nbconvert_exporter": "python",
   "pygments_lexer": "ipython3",
   "version": "3.11.2"
  }
 },
 "nbformat": 4,
 "nbformat_minor": 5
}
